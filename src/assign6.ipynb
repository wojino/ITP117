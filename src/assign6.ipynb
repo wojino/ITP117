{
 "cells": [
  {
   "cell_type": "code",
   "execution_count": 71,
   "metadata": {},
   "outputs": [],
   "source": [
    "import keras\n",
    "import os\n",
    "import numpy as np\n",
    "import pandas as pd\n",
    "import matplotlib.pyplot as plt\n",
    "import matplotlib as mpl"
   ]
  },
  {
   "cell_type": "code",
   "execution_count": 72,
   "metadata": {},
   "outputs": [],
   "source": [
    "def plot_series(series, y=None, y_pred=None, x_label=\"$t$\", y_label=\"$x(t)$\"):\n",
    "    n_steps = series.shape[0]\n",
    "    plt.plot(series, \".-\", label='x')\n",
    "\n",
    "    if y is not None:\n",
    "        plt.plot(n_steps, y, \"bx\", label=\"actual y\", markersize=10)\n",
    "    if y_pred is not None:\n",
    "        plt.plot(n_steps, y_pred, \"ro\", label=\"predicted y\")\n",
    "    \n",
    "    plt.grid(True)\n",
    "\n",
    "    if x_label:\n",
    "        plt.xlabel(x_label, fontsize=16)\n",
    "    if y_label:\n",
    "        plt.ylabel(y_label, fontsize=16, rotation=0)\n",
    "    \n",
    "    plt.hlines(0, 0, 100, linewidth=1)\n",
    "    plt.axis([0, n_steps + 1, None, None])\n",
    "    plt.legend()"
   ]
  },
  {
   "cell_type": "code",
   "execution_count": 73,
   "metadata": {},
   "outputs": [],
   "source": [
    "def plot_learning_curves(loss, val_loss):\n",
    "    plt.plot(np.arange(len(loss)) + 0.5, loss, \"b.-\", label=\"Training loss\")\n",
    "    plt.plot(np.arange(len(val_loss)) + 1, val_loss, \"r.-\", label=\"Validation loss\")\n",
    "    plt.gca().xaxis.set_major_locator(mpl.ticker.MaxNLocator(integer=True))\n",
    "    plt.axis([1, 20, None, None])\n",
    "    plt.legend(fontsize=14)\n",
    "    plt.xlabel(\"Epochs\")\n",
    "    plt.ylabel(\"Loss\")\n",
    "    plt.grid(True)"
   ]
  },
  {
   "cell_type": "code",
   "execution_count": 74,
   "metadata": {},
   "outputs": [],
   "source": [
    "df = pd.read_csv(\"./ulsan/Ulsan_Temp.csv\")"
   ]
  },
  {
   "cell_type": "code",
   "execution_count": 75,
   "metadata": {},
   "outputs": [
    {
     "data": {
      "text/html": [
       "<div>\n",
       "<style scoped>\n",
       "    .dataframe tbody tr th:only-of-type {\n",
       "        vertical-align: middle;\n",
       "    }\n",
       "\n",
       "    .dataframe tbody tr th {\n",
       "        vertical-align: top;\n",
       "    }\n",
       "\n",
       "    .dataframe thead th {\n",
       "        text-align: right;\n",
       "    }\n",
       "</style>\n",
       "<table border=\"1\" class=\"dataframe\">\n",
       "  <thead>\n",
       "    <tr style=\"text-align: right;\">\n",
       "      <th></th>\n",
       "      <th>Date</th>\n",
       "      <th>Temperature(M)</th>\n",
       "      <th>Temperature(L)</th>\n",
       "      <th>Temperature(H)</th>\n",
       "    </tr>\n",
       "  </thead>\n",
       "  <tbody>\n",
       "    <tr>\n",
       "      <th>754</th>\n",
       "      <td>2021-05-24</td>\n",
       "      <td>19.6</td>\n",
       "      <td>17.4</td>\n",
       "      <td>24.2</td>\n",
       "    </tr>\n",
       "    <tr>\n",
       "      <th>755</th>\n",
       "      <td>2021-05-25</td>\n",
       "      <td>19.0</td>\n",
       "      <td>13.9</td>\n",
       "      <td>24.3</td>\n",
       "    </tr>\n",
       "    <tr>\n",
       "      <th>756</th>\n",
       "      <td>2021-05-26</td>\n",
       "      <td>18.3</td>\n",
       "      <td>12.1</td>\n",
       "      <td>23.7</td>\n",
       "    </tr>\n",
       "    <tr>\n",
       "      <th>757</th>\n",
       "      <td>2021-05-27</td>\n",
       "      <td>19.1</td>\n",
       "      <td>14.9</td>\n",
       "      <td>24.4</td>\n",
       "    </tr>\n",
       "    <tr>\n",
       "      <th>758</th>\n",
       "      <td>2021-05-28</td>\n",
       "      <td>17.5</td>\n",
       "      <td>12.1</td>\n",
       "      <td>26.0</td>\n",
       "    </tr>\n",
       "    <tr>\n",
       "      <th>759</th>\n",
       "      <td>2021-05-29</td>\n",
       "      <td>19.3</td>\n",
       "      <td>12.1</td>\n",
       "      <td>25.9</td>\n",
       "    </tr>\n",
       "    <tr>\n",
       "      <th>760</th>\n",
       "      <td>2021-05-30</td>\n",
       "      <td>19.2</td>\n",
       "      <td>14.3</td>\n",
       "      <td>24.1</td>\n",
       "    </tr>\n",
       "    <tr>\n",
       "      <th>761</th>\n",
       "      <td>2021-05-31</td>\n",
       "      <td>19.0</td>\n",
       "      <td>15.2</td>\n",
       "      <td>25.1</td>\n",
       "    </tr>\n",
       "    <tr>\n",
       "      <th>762</th>\n",
       "      <td>2021-06-01</td>\n",
       "      <td>20.3</td>\n",
       "      <td>14.1</td>\n",
       "      <td>25.8</td>\n",
       "    </tr>\n",
       "    <tr>\n",
       "      <th>763</th>\n",
       "      <td>2021-06-02</td>\n",
       "      <td>20.9</td>\n",
       "      <td>17.5</td>\n",
       "      <td>26.3</td>\n",
       "    </tr>\n",
       "  </tbody>\n",
       "</table>\n",
       "</div>"
      ],
      "text/plain": [
       "           Date  Temperature(M)  Temperature(L)  Temperature(H)\n",
       "754  2021-05-24            19.6            17.4            24.2\n",
       "755  2021-05-25            19.0            13.9            24.3\n",
       "756  2021-05-26            18.3            12.1            23.7\n",
       "757  2021-05-27            19.1            14.9            24.4\n",
       "758  2021-05-28            17.5            12.1            26.0\n",
       "759  2021-05-29            19.3            12.1            25.9\n",
       "760  2021-05-30            19.2            14.3            24.1\n",
       "761  2021-05-31            19.0            15.2            25.1\n",
       "762  2021-06-01            20.3            14.1            25.8\n",
       "763  2021-06-02            20.9            17.5            26.3"
      ]
     },
     "execution_count": 75,
     "metadata": {},
     "output_type": "execute_result"
    }
   ],
   "source": [
    "df.tail(10)"
   ]
  },
  {
   "cell_type": "code",
   "execution_count": 76,
   "metadata": {},
   "outputs": [
    {
     "name": "stdout",
     "output_type": "stream",
     "text": [
      "(764,)\n"
     ]
    }
   ],
   "source": [
    "n_step = 5\n",
    "\n",
    "temperature = df['Temperature(H)'].values\n",
    "print(temperature.shape)"
   ]
  },
  {
   "cell_type": "code",
   "execution_count": 77,
   "metadata": {},
   "outputs": [
    {
     "data": {
      "text/plain": [
       "array([23.1, 22.5, 24.4, 25.7, 28.7, 20.2, 20.6, 24.7, 25.7, 25.7])"
      ]
     },
     "execution_count": 77,
     "metadata": {},
     "output_type": "execute_result"
    }
   ],
   "source": [
    "temperature[:10]"
   ]
  },
  {
   "cell_type": "code",
   "execution_count": 78,
   "metadata": {},
   "outputs": [
    {
     "data": {
      "text/plain": [
       "127"
      ]
     },
     "execution_count": 78,
     "metadata": {},
     "output_type": "execute_result"
    }
   ],
   "source": [
    "temperature = temperature[:(temperature.shape[0] // (n_step + 1)) * (n_step + 1)].reshape(-1, (n_step+1))\n",
    "\n",
    "r = temperature.shape[0]\n",
    "\n",
    "r"
   ]
  },
  {
   "cell_type": "code",
   "execution_count": 79,
   "metadata": {},
   "outputs": [
    {
     "name": "stdout",
     "output_type": "stream",
     "text": [
      "(101, 5, 1) (101, 1)\n",
      "(13, 5, 1) (13, 1)\n",
      "(12, 5, 1) (12, 1)\n"
     ]
    }
   ],
   "source": [
    "X_train, y_train = temperature[:int(r*0.8), :n_step, np.newaxis], temperature[:int(r*0.8), -1, np.newaxis]\n",
    "X_valid, y_valid = temperature[int(r*0.8):int(r*0.9), :n_step, np.newaxis], temperature[int(r*0.8):int(r*0.9), -1, np.newaxis]\n",
    "X_test, y_test = temperature[int(r*0.9):-1, :n_step, np.newaxis], temperature[int(r*0.9):-1, -1, np.newaxis]\n",
    "\n",
    "print(X_train.shape, y_train.shape)\n",
    "print(X_valid.shape, y_valid.shape)\n",
    "print(X_test.shape, y_test.shape)"
   ]
  },
  {
   "cell_type": "code",
   "execution_count": 151,
   "metadata": {},
   "outputs": [
    {
     "name": "stdout",
     "output_type": "stream",
     "text": [
      "Epoch 1/150\n",
      "4/4 [==============================] - 3s 259ms/step - loss: 490.4806 - val_loss: 108.8317\n",
      "Epoch 2/150\n",
      "4/4 [==============================] - 0s 34ms/step - loss: 472.6644 - val_loss: 101.3883\n",
      "Epoch 3/150\n",
      "4/4 [==============================] - 0s 34ms/step - loss: 450.2903 - val_loss: 91.1497\n",
      "Epoch 4/150\n",
      "4/4 [==============================] - 0s 12ms/step - loss: 418.3280 - val_loss: 77.4081\n",
      "Epoch 5/150\n",
      "4/4 [==============================] - 0s 11ms/step - loss: 374.5200 - val_loss: 62.6911\n",
      "Epoch 6/150\n",
      "4/4 [==============================] - 0s 12ms/step - loss: 326.1231 - val_loss: 51.5525\n",
      "Epoch 7/150\n",
      "4/4 [==============================] - 0s 12ms/step - loss: 281.2599 - val_loss: 45.3693\n",
      "Epoch 8/150\n",
      "4/4 [==============================] - 0s 13ms/step - loss: 244.2417 - val_loss: 42.9809\n",
      "Epoch 9/150\n",
      "4/4 [==============================] - 0s 13ms/step - loss: 215.6435 - val_loss: 42.9605\n",
      "Epoch 10/150\n",
      "4/4 [==============================] - 0s 12ms/step - loss: 194.7809 - val_loss: 44.0469\n",
      "Epoch 11/150\n",
      "4/4 [==============================] - 0s 12ms/step - loss: 180.2809 - val_loss: 45.5001\n",
      "Epoch 12/150\n",
      "4/4 [==============================] - 0s 12ms/step - loss: 169.1701 - val_loss: 47.0221\n",
      "Epoch 13/150\n",
      "4/4 [==============================] - 0s 12ms/step - loss: 161.0426 - val_loss: 48.5426\n",
      "Epoch 14/150\n",
      "4/4 [==============================] - 0s 12ms/step - loss: 154.0271 - val_loss: 50.0156\n",
      "Epoch 15/150\n",
      "4/4 [==============================] - 0s 12ms/step - loss: 148.4581 - val_loss: 51.4993\n",
      "Epoch 16/150\n",
      "4/4 [==============================] - 0s 14ms/step - loss: 143.3857 - val_loss: 53.0031\n",
      "Epoch 17/150\n",
      "4/4 [==============================] - 0s 13ms/step - loss: 138.9147 - val_loss: 54.5310\n",
      "Epoch 18/150\n",
      "4/4 [==============================] - 0s 12ms/step - loss: 134.7345 - val_loss: 56.1080\n",
      "Epoch 19/150\n",
      "4/4 [==============================] - 0s 12ms/step - loss: 130.8597 - val_loss: 57.7109\n",
      "Epoch 20/150\n",
      "4/4 [==============================] - 0s 12ms/step - loss: 127.2173 - val_loss: 59.3459\n",
      "Epoch 21/150\n",
      "4/4 [==============================] - 0s 11ms/step - loss: 123.5650 - val_loss: 61.0117\n",
      "Epoch 22/150\n",
      "4/4 [==============================] - 0s 12ms/step - loss: 120.3125 - val_loss: 62.7592\n",
      "Epoch 23/150\n",
      "4/4 [==============================] - 0s 13ms/step - loss: 117.3033 - val_loss: 64.6238\n",
      "Epoch 24/150\n",
      "4/4 [==============================] - 0s 12ms/step - loss: 114.1188 - val_loss: 66.4614\n",
      "Epoch 25/150\n",
      "4/4 [==============================] - 0s 12ms/step - loss: 111.3130 - val_loss: 68.2850\n",
      "Epoch 26/150\n",
      "4/4 [==============================] - 0s 14ms/step - loss: 108.6678 - val_loss: 70.1891\n",
      "Epoch 27/150\n",
      "4/4 [==============================] - 0s 13ms/step - loss: 106.1153 - val_loss: 72.1999\n",
      "Epoch 28/150\n",
      "4/4 [==============================] - 0s 13ms/step - loss: 103.4445 - val_loss: 74.1501\n",
      "Epoch 29/150\n",
      "4/4 [==============================] - 0s 13ms/step - loss: 101.1235 - val_loss: 76.1307\n",
      "Epoch 30/150\n",
      "4/4 [==============================] - 0s 13ms/step - loss: 98.9420 - val_loss: 78.0744\n",
      "Epoch 31/150\n",
      "4/4 [==============================] - 0s 12ms/step - loss: 96.8290 - val_loss: 79.9979\n",
      "Epoch 32/150\n",
      "4/4 [==============================] - 0s 13ms/step - loss: 94.8695 - val_loss: 81.8455\n",
      "Epoch 33/150\n",
      "4/4 [==============================] - 0s 11ms/step - loss: 93.2003 - val_loss: 83.7695\n",
      "Epoch 34/150\n",
      "4/4 [==============================] - 0s 13ms/step - loss: 91.3319 - val_loss: 85.7040\n",
      "Epoch 35/150\n",
      "4/4 [==============================] - 0s 13ms/step - loss: 89.6118 - val_loss: 87.7567\n",
      "Epoch 36/150\n",
      "4/4 [==============================] - 0s 14ms/step - loss: 87.9102 - val_loss: 89.8239\n",
      "Epoch 37/150\n",
      "4/4 [==============================] - 0s 14ms/step - loss: 86.3646 - val_loss: 91.7855\n",
      "Epoch 38/150\n",
      "4/4 [==============================] - 0s 12ms/step - loss: 84.8333 - val_loss: 93.6788\n",
      "Epoch 39/150\n",
      "4/4 [==============================] - 0s 12ms/step - loss: 83.5007 - val_loss: 95.5850\n",
      "Epoch 40/150\n",
      "4/4 [==============================] - 0s 11ms/step - loss: 82.1264 - val_loss: 97.3555\n",
      "Epoch 41/150\n",
      "4/4 [==============================] - 0s 12ms/step - loss: 80.7939 - val_loss: 99.0588\n",
      "Epoch 42/150\n",
      "4/4 [==============================] - 0s 12ms/step - loss: 79.7027 - val_loss: 100.8266\n",
      "Epoch 43/150\n",
      "4/4 [==============================] - 0s 12ms/step - loss: 78.5849 - val_loss: 102.5989\n",
      "Epoch 44/150\n",
      "4/4 [==============================] - 0s 13ms/step - loss: 77.3850 - val_loss: 104.4225\n",
      "Epoch 45/150\n",
      "4/4 [==============================] - 0s 12ms/step - loss: 76.3112 - val_loss: 106.3218\n",
      "Epoch 46/150\n",
      "4/4 [==============================] - 0s 13ms/step - loss: 75.2765 - val_loss: 108.3556\n",
      "Epoch 47/150\n",
      "4/4 [==============================] - 0s 13ms/step - loss: 74.2729 - val_loss: 110.2462\n",
      "Epoch 48/150\n",
      "4/4 [==============================] - 0s 13ms/step - loss: 73.3617 - val_loss: 112.1388\n",
      "Epoch 49/150\n",
      "4/4 [==============================] - 0s 12ms/step - loss: 72.5443 - val_loss: 114.0559\n",
      "Epoch 50/150\n",
      "4/4 [==============================] - 0s 12ms/step - loss: 71.7095 - val_loss: 115.9000\n",
      "Epoch 51/150\n",
      "4/4 [==============================] - 0s 12ms/step - loss: 71.0735 - val_loss: 117.8412\n",
      "Epoch 52/150\n",
      "4/4 [==============================] - 0s 11ms/step - loss: 70.3243 - val_loss: 119.5229\n",
      "Epoch 53/150\n",
      "4/4 [==============================] - 0s 12ms/step - loss: 69.7015 - val_loss: 121.1672\n",
      "Epoch 54/150\n",
      "4/4 [==============================] - 0s 12ms/step - loss: 69.1334 - val_loss: 122.8167\n",
      "Epoch 55/150\n",
      "4/4 [==============================] - 0s 12ms/step - loss: 68.5456 - val_loss: 124.3315\n",
      "Epoch 56/150\n",
      "4/4 [==============================] - 0s 12ms/step - loss: 68.0564 - val_loss: 125.8062\n",
      "Epoch 57/150\n",
      "4/4 [==============================] - 0s 12ms/step - loss: 67.5956 - val_loss: 127.1707\n",
      "Epoch 58/150\n",
      "4/4 [==============================] - 0s 13ms/step - loss: 67.1605 - val_loss: 128.3314\n",
      "Epoch 59/150\n",
      "4/4 [==============================] - 0s 13ms/step - loss: 66.8321 - val_loss: 129.6435\n",
      "Epoch 60/150\n",
      "4/4 [==============================] - 0s 13ms/step - loss: 66.4603 - val_loss: 131.0692\n",
      "Epoch 61/150\n",
      "4/4 [==============================] - 0s 13ms/step - loss: 66.0244 - val_loss: 132.4470\n",
      "Epoch 62/150\n",
      "4/4 [==============================] - 0s 12ms/step - loss: 65.6587 - val_loss: 133.9700\n",
      "Epoch 63/150\n",
      "4/4 [==============================] - 0s 11ms/step - loss: 65.2647 - val_loss: 135.4465\n",
      "Epoch 64/150\n",
      "4/4 [==============================] - 0s 12ms/step - loss: 64.9302 - val_loss: 136.8485\n",
      "Epoch 65/150\n",
      "4/4 [==============================] - 0s 13ms/step - loss: 64.6157 - val_loss: 138.0977\n",
      "Epoch 66/150\n",
      "4/4 [==============================] - 0s 13ms/step - loss: 64.3590 - val_loss: 139.4383\n",
      "Epoch 67/150\n",
      "4/4 [==============================] - 0s 13ms/step - loss: 64.0736 - val_loss: 140.6415\n",
      "Epoch 68/150\n",
      "4/4 [==============================] - 0s 12ms/step - loss: 63.7867 - val_loss: 141.9552\n",
      "Epoch 69/150\n",
      "4/4 [==============================] - 0s 14ms/step - loss: 63.5400 - val_loss: 143.5685\n",
      "Epoch 70/150\n",
      "4/4 [==============================] - 0s 13ms/step - loss: 63.2790 - val_loss: 145.1690\n",
      "Epoch 71/150\n",
      "4/4 [==============================] - 0s 12ms/step - loss: 62.9680 - val_loss: 146.3481\n",
      "Epoch 72/150\n",
      "4/4 [==============================] - 0s 12ms/step - loss: 62.8321 - val_loss: 147.6035\n",
      "Epoch 73/150\n",
      "4/4 [==============================] - 0s 12ms/step - loss: 62.5788 - val_loss: 148.6384\n",
      "Epoch 74/150\n",
      "4/4 [==============================] - 0s 12ms/step - loss: 62.4152 - val_loss: 149.7355\n",
      "Epoch 75/150\n",
      "4/4 [==============================] - 0s 12ms/step - loss: 62.2431 - val_loss: 150.9662\n",
      "Epoch 76/150\n",
      "4/4 [==============================] - 0s 12ms/step - loss: 62.1064 - val_loss: 152.1601\n",
      "Epoch 77/150\n",
      "4/4 [==============================] - 0s 12ms/step - loss: 61.9650 - val_loss: 153.1796\n",
      "Epoch 78/150\n",
      "4/4 [==============================] - 0s 11ms/step - loss: 61.8153 - val_loss: 154.0044\n",
      "Epoch 79/150\n",
      "4/4 [==============================] - 0s 11ms/step - loss: 61.7094 - val_loss: 154.8238\n",
      "Epoch 80/150\n",
      "4/4 [==============================] - 0s 12ms/step - loss: 61.6253 - val_loss: 155.4731\n",
      "Epoch 81/150\n",
      "4/4 [==============================] - 0s 14ms/step - loss: 61.5618 - val_loss: 156.1350\n",
      "Epoch 82/150\n",
      "4/4 [==============================] - 0s 14ms/step - loss: 61.4792 - val_loss: 156.6709\n",
      "Epoch 83/150\n",
      "4/4 [==============================] - 0s 12ms/step - loss: 61.4318 - val_loss: 157.2553\n",
      "Epoch 84/150\n",
      "4/4 [==============================] - 0s 12ms/step - loss: 61.3601 - val_loss: 157.7918\n",
      "Epoch 85/150\n",
      "4/4 [==============================] - 0s 11ms/step - loss: 61.3197 - val_loss: 158.3961\n",
      "Epoch 86/150\n",
      "4/4 [==============================] - 0s 12ms/step - loss: 61.2441 - val_loss: 158.7855\n",
      "Epoch 87/150\n",
      "4/4 [==============================] - 0s 12ms/step - loss: 61.1842 - val_loss: 159.3815\n",
      "Epoch 88/150\n",
      "4/4 [==============================] - 0s 12ms/step - loss: 61.1416 - val_loss: 159.9678\n",
      "Epoch 89/150\n",
      "4/4 [==============================] - 0s 11ms/step - loss: 61.0859 - val_loss: 160.6793\n",
      "Epoch 90/150\n",
      "4/4 [==============================] - 0s 12ms/step - loss: 61.0394 - val_loss: 161.5103\n",
      "Epoch 91/150\n",
      "4/4 [==============================] - 0s 13ms/step - loss: 60.9589 - val_loss: 162.1158\n",
      "Epoch 92/150\n",
      "4/4 [==============================] - 0s 13ms/step - loss: 60.9067 - val_loss: 162.5203\n",
      "Epoch 93/150\n",
      "4/4 [==============================] - 0s 12ms/step - loss: 60.8717 - val_loss: 162.8298\n",
      "Epoch 94/150\n",
      "4/4 [==============================] - 0s 14ms/step - loss: 60.8424 - val_loss: 163.3141\n",
      "Epoch 95/150\n",
      "4/4 [==============================] - 0s 13ms/step - loss: 60.7834 - val_loss: 164.0698\n",
      "Epoch 96/150\n",
      "4/4 [==============================] - 0s 12ms/step - loss: 60.7136 - val_loss: 164.8122\n",
      "Epoch 97/150\n",
      "4/4 [==============================] - 0s 13ms/step - loss: 60.6815 - val_loss: 165.7335\n",
      "Epoch 98/150\n",
      "4/4 [==============================] - 0s 13ms/step - loss: 60.5960 - val_loss: 166.7699\n",
      "Epoch 99/150\n",
      "4/4 [==============================] - 0s 12ms/step - loss: 60.5712 - val_loss: 167.6319\n",
      "Epoch 100/150\n",
      "4/4 [==============================] - 0s 13ms/step - loss: 60.5127 - val_loss: 168.2144\n",
      "Epoch 101/150\n",
      "4/4 [==============================] - 0s 11ms/step - loss: 60.4537 - val_loss: 168.7566\n",
      "Epoch 102/150\n",
      "4/4 [==============================] - 0s 12ms/step - loss: 60.4266 - val_loss: 169.0374\n",
      "Epoch 103/150\n",
      "4/4 [==============================] - 0s 12ms/step - loss: 60.4053 - val_loss: 169.2672\n",
      "Epoch 104/150\n",
      "4/4 [==============================] - 0s 11ms/step - loss: 60.3826 - val_loss: 169.6702\n",
      "Epoch 105/150\n",
      "4/4 [==============================] - 0s 12ms/step - loss: 60.3484 - val_loss: 169.9780\n",
      "Epoch 106/150\n",
      "4/4 [==============================] - 0s 11ms/step - loss: 60.3297 - val_loss: 170.0992\n",
      "Epoch 107/150\n",
      "4/4 [==============================] - 0s 11ms/step - loss: 60.2974 - val_loss: 170.4135\n",
      "Epoch 108/150\n",
      "4/4 [==============================] - 0s 12ms/step - loss: 60.2696 - val_loss: 170.6410\n",
      "Epoch 109/150\n",
      "4/4 [==============================] - 0s 12ms/step - loss: 60.2335 - val_loss: 170.5132\n",
      "Epoch 110/150\n",
      "4/4 [==============================] - 0s 12ms/step - loss: 60.1936 - val_loss: 170.2051\n",
      "Epoch 111/150\n",
      "4/4 [==============================] - 0s 11ms/step - loss: 60.1736 - val_loss: 169.2430\n",
      "Epoch 112/150\n",
      "4/4 [==============================] - 0s 12ms/step - loss: 60.1262 - val_loss: 168.0979\n",
      "Epoch 113/150\n",
      "4/4 [==============================] - 0s 12ms/step - loss: 60.0452 - val_loss: 166.4902\n",
      "Epoch 114/150\n",
      "4/4 [==============================] - 0s 12ms/step - loss: 59.9325 - val_loss: 162.6115\n",
      "Epoch 115/150\n",
      "4/4 [==============================] - 0s 12ms/step - loss: 59.7342 - val_loss: 155.0054\n",
      "Epoch 116/150\n",
      "4/4 [==============================] - 0s 12ms/step - loss: 59.0152 - val_loss: 136.1377\n",
      "Epoch 117/150\n",
      "4/4 [==============================] - 0s 12ms/step - loss: 54.2052 - val_loss: 75.1165\n",
      "Epoch 118/150\n",
      "4/4 [==============================] - 0s 12ms/step - loss: 48.4510 - val_loss: 67.0575\n",
      "Epoch 119/150\n",
      "4/4 [==============================] - 0s 12ms/step - loss: 44.0057 - val_loss: 97.5577\n",
      "Epoch 120/150\n",
      "4/4 [==============================] - 0s 12ms/step - loss: 43.3271 - val_loss: 66.3117\n",
      "Epoch 121/150\n",
      "4/4 [==============================] - 0s 12ms/step - loss: 40.2400 - val_loss: 63.3015\n",
      "Epoch 122/150\n",
      "4/4 [==============================] - 0s 12ms/step - loss: 39.8197 - val_loss: 74.8919\n",
      "Epoch 123/150\n",
      "4/4 [==============================] - 0s 12ms/step - loss: 38.2054 - val_loss: 57.3568\n",
      "Epoch 124/150\n",
      "4/4 [==============================] - 0s 12ms/step - loss: 37.4125 - val_loss: 56.0535\n",
      "Epoch 125/150\n",
      "4/4 [==============================] - 0s 12ms/step - loss: 35.6789 - val_loss: 63.4215\n",
      "Epoch 126/150\n",
      "4/4 [==============================] - 0s 11ms/step - loss: 34.9343 - val_loss: 65.6318\n",
      "Epoch 127/150\n",
      "4/4 [==============================] - 0s 12ms/step - loss: 35.0154 - val_loss: 62.7861\n",
      "Epoch 128/150\n",
      "4/4 [==============================] - 0s 12ms/step - loss: 33.5619 - val_loss: 50.5536\n",
      "Epoch 129/150\n",
      "4/4 [==============================] - 0s 11ms/step - loss: 31.9358 - val_loss: 56.8693\n",
      "Epoch 130/150\n",
      "4/4 [==============================] - 0s 13ms/step - loss: 31.3697 - val_loss: 49.9723\n",
      "Epoch 131/150\n",
      "4/4 [==============================] - 0s 13ms/step - loss: 30.0192 - val_loss: 53.1471\n",
      "Epoch 132/150\n",
      "4/4 [==============================] - 0s 13ms/step - loss: 29.0811 - val_loss: 44.0020\n",
      "Epoch 133/150\n",
      "4/4 [==============================] - 0s 13ms/step - loss: 28.9104 - val_loss: 47.3036\n",
      "Epoch 134/150\n",
      "4/4 [==============================] - 0s 11ms/step - loss: 27.7508 - val_loss: 49.4698\n",
      "Epoch 135/150\n",
      "4/4 [==============================] - 0s 12ms/step - loss: 27.4043 - val_loss: 44.5234\n",
      "Epoch 136/150\n",
      "4/4 [==============================] - 0s 12ms/step - loss: 26.7226 - val_loss: 48.3567\n",
      "Epoch 137/150\n",
      "4/4 [==============================] - 0s 12ms/step - loss: 26.3626 - val_loss: 41.7116\n",
      "Epoch 138/150\n",
      "4/4 [==============================] - 0s 11ms/step - loss: 25.2446 - val_loss: 45.0170\n",
      "Epoch 139/150\n",
      "4/4 [==============================] - 0s 12ms/step - loss: 24.7752 - val_loss: 46.9479\n",
      "Epoch 140/150\n",
      "4/4 [==============================] - 0s 12ms/step - loss: 24.0535 - val_loss: 39.7190\n",
      "Epoch 141/150\n",
      "4/4 [==============================] - 0s 12ms/step - loss: 24.5599 - val_loss: 39.1859\n",
      "Epoch 142/150\n",
      "4/4 [==============================] - 0s 13ms/step - loss: 23.2985 - val_loss: 43.5196\n",
      "Epoch 143/150\n",
      "4/4 [==============================] - 0s 13ms/step - loss: 23.6059 - val_loss: 40.8136\n",
      "Epoch 144/150\n",
      "4/4 [==============================] - 0s 12ms/step - loss: 23.8017 - val_loss: 36.2437\n",
      "Epoch 145/150\n",
      "4/4 [==============================] - 0s 13ms/step - loss: 23.3526 - val_loss: 46.4673\n",
      "Epoch 146/150\n",
      "4/4 [==============================] - 0s 13ms/step - loss: 23.0312 - val_loss: 51.0585\n",
      "Epoch 147/150\n",
      "4/4 [==============================] - 0s 23ms/step - loss: 22.5009 - val_loss: 38.1512\n",
      "Epoch 148/150\n",
      "4/4 [==============================] - 0s 20ms/step - loss: 21.6785 - val_loss: 37.8484\n",
      "Epoch 149/150\n",
      "4/4 [==============================] - 0s 15ms/step - loss: 20.7201 - val_loss: 39.4404\n",
      "Epoch 150/150\n",
      "4/4 [==============================] - 0s 13ms/step - loss: 19.8044 - val_loss: 40.6820\n"
     ]
    }
   ],
   "source": [
    "np.random.seed(42)\n",
    "tf.random.set_seed(42)\n",
    "\n",
    "model = keras.models.Sequential([\n",
    "    keras.layers.LSTM(50, return_sequences=True, input_shape=[n_step, 1]),\n",
    "    keras.layers.LSTM(50, return_sequences=True),\n",
    "    keras.layers.LSTM(50),\n",
    "    keras.layers.Dense(1, activation=\"linear\")\n",
    "])\n",
    "\n",
    "model.compile(loss='mse', optimizer='adam')\n",
    "history = model.fit(X_train, y_train, epochs=150,\n",
    "                    validation_data=(X_valid, y_valid))"
   ]
  },
  {
   "cell_type": "code",
   "execution_count": 152,
   "metadata": {},
   "outputs": [
    {
     "data": {
      "image/png": "[encoded data removed]",
      "text/plain": [
       "<Figure size 432x288 with 1 Axes>"
      ]
     },
     "metadata": {
      "needs_background": "light"
     },
     "output_type": "display_data"
    }
   ],
   "source": [
    "plot_learning_curves(history.history[\"loss\"], history.history[\"val_loss\"])\n",
    "plt.show()"
   ]
  },
  {
   "cell_type": "code",
   "execution_count": 153,
   "metadata": {},
   "outputs": [
    {
     "data": {
      "text/plain": [
       "array([10.2, 14.1, 15.6,  1.8,  1.5])"
      ]
     },
     "execution_count": 153,
     "metadata": {},
     "output_type": "execute_result"
    }
   ],
   "source": [
    "X_valid[0, :, 0]"
   ]
  },
  {
   "cell_type": "code",
   "execution_count": 154,
   "metadata": {},
   "outputs": [
    {
     "data": {
      "image/png": "[encoded data removed]",
      "text/plain": [
       "<Figure size 432x288 with 1 Axes>"
      ]
     },
     "metadata": {
      "needs_background": "light"
     },
     "output_type": "display_data"
    }
   ],
   "source": [
    "y_pred = model.predict(X_test)\n",
    "plot_series(X_test[0, :, 0], y_test[0, 0], y_test[0, 0])\n",
    "plt.show()"
   ]
  },
  {
   "cell_type": "code",
   "execution_count": 155,
   "metadata": {},
   "outputs": [
    {
     "name": "stdout",
     "output_type": "stream",
     "text": [
      "1/1 [==============================] - 0s 16ms/step - loss: 40.6820\n"
     ]
    },
    {
     "data": {
      "text/plain": [
       "40.6820068359375"
      ]
     },
     "execution_count": 155,
     "metadata": {},
     "output_type": "execute_result"
    }
   ],
   "source": [
    "model.evaluate(X_valid, y_valid)"
   ]
  },
  {
   "cell_type": "code",
   "execution_count": 156,
   "metadata": {},
   "outputs": [
    {
     "name": "stdout",
     "output_type": "stream",
     "text": [
      "1/1 [==============================] - 0s 15ms/step - loss: 18.5584\n"
     ]
    },
    {
     "data": {
      "text/plain": [
       "18.558429718017578"
      ]
     },
     "execution_count": 156,
     "metadata": {},
     "output_type": "execute_result"
    }
   ],
   "source": [
    "model.evaluate(X_test, y_test)"
   ]
  },
  {
   "cell_type": "code",
   "execution_count": 157,
   "metadata": {},
   "outputs": [
    {
     "data": {
      "text/plain": [
       "(5, 1)"
      ]
     },
     "execution_count": 157,
     "metadata": {},
     "output_type": "execute_result"
    }
   ],
   "source": [
    "X_test[0].shape"
   ]
  },
  {
   "cell_type": "code",
   "execution_count": 158,
   "metadata": {},
   "outputs": [
    {
     "data": {
      "text/plain": [
       "array([[15.5413475],\n",
       "       [17.262594 ],\n",
       "       [21.150135 ],\n",
       "       [16.417994 ],\n",
       "       [15.838232 ],\n",
       "       [18.732113 ],\n",
       "       [23.609888 ],\n",
       "       [22.126692 ],\n",
       "       [22.948298 ],\n",
       "       [22.667894 ],\n",
       "       [22.280424 ],\n",
       "       [23.55837  ]], dtype=float32)"
      ]
     },
     "execution_count": 158,
     "metadata": {},
     "output_type": "execute_result"
    }
   ],
   "source": [
    "model.predict(X_test)"
   ]
  },
  {
   "cell_type": "code",
   "execution_count": 159,
   "metadata": {},
   "outputs": [],
   "source": [
    "n_steps = 5\n",
    "real_temp = np.array([[26],[25.9],[24.1],[25.1],[25.8]]).reshape(1, n_steps, 1)"
   ]
  },
  {
   "cell_type": "code",
   "execution_count": 160,
   "metadata": {},
   "outputs": [
    {
     "data": {
      "text/plain": [
       "array([[23.879736]], dtype=float32)"
      ]
     },
     "execution_count": 160,
     "metadata": {},
     "output_type": "execute_result"
    }
   ],
   "source": [
    "model.predict(real_temp)"
   ]
  },
  {
   "cell_type": "code",
   "execution_count": 161,
   "metadata": {},
   "outputs": [
    {
     "data": {
      "image/png": "[encoded data removed]",
      "text/plain": [
       "<Figure size 432x288 with 1 Axes>"
      ]
     },
     "metadata": {
      "needs_background": "light"
     },
     "output_type": "display_data"
    }
   ],
   "source": [
    "y_pred = model.predict(real_temp)\n",
    "plot_series(real_temp[0, :, 0], [26.3], y_pred[0, 0])\n",
    "plt.show()"
   ]
  }
 ],
 "metadata": {
  "interpreter": {
   "hash": "03e58ad03f13b95f868c9abf1674e52c1333c3878855efe713d56c35884051df"
  },
  "kernelspec": {
   "display_name": "Python 3.7.9 64-bit",
   "language": "python",
   "name": "python3"
  },
  "language_info": {
   "codemirror_mode": {
    "name": "ipython",
    "version": 3
   },
   "file_extension": ".py",
   "mimetype": "text/x-python",
   "name": "python",
   "nbconvert_exporter": "python",
   "pygments_lexer": "ipython3",
   "version": "3.7.9"
  },
  "orig_nbformat": 4
 },
 "nbformat": 4,
 "nbformat_minor": 2
}
